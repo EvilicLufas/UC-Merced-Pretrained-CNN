{
 "cells": [
  {
   "cell_type": "code",
   "execution_count": 1,
   "metadata": {},
   "outputs": [
    {
     "name": "stdout",
     "output_type": "stream",
     "text": [
      "oops!\n"
     ]
    }
   ],
   "source": [
    "try:\n",
    "    with open('foofile') as f:\n",
    "        print(f)\n",
    "except:\n",
    "    print('oops!')"
   ]
  },
  {
   "cell_type": "code",
   "execution_count": 2,
   "metadata": {},
   "outputs": [
    {
     "name": "stderr",
     "output_type": "stream",
     "text": [
      "Using TensorFlow backend.\n"
     ]
    }
   ],
   "source": [
    "from contextlib import suppress\n",
    "import matplotlib\n",
    "import matplotlib.pyplot as plt\n",
    "\n",
    "import numpy as np\n",
    "import os\n",
    "import warnings\n",
    "from zipfile import ZipFile\n",
    "\n",
    "from skimage.io import imread, imsave\n",
    "\n",
    "from keras import applications\n",
    "from keras import optimizers\n",
    "from keras.models import Sequential\n",
    "from keras.layers import Activation, Dense, Dropout, Flatten\n",
    "from keras.utils import to_categorical\n",
    "from keras.preprocessing.image import ImageDataGenerator\n",
    "\n",
    "from sklearn.metrics import accuracy_score, classification_report\n",
    "\n",
    "%matplotlib inline"
   ]
  },
  {
   "cell_type": "markdown",
   "metadata": {},
   "source": [
    "# Data Preparation"
   ]
  },
  {
   "cell_type": "markdown",
   "metadata": {},
   "source": [
    "### Download the [UC Merced Land Use dataset](http://vision.ucmerced.edu/datasets/landuse.html)"
   ]
  },
  {
   "cell_type": "markdown",
   "metadata": {},
   "source": [
    "### Extract image files from the zipped archive, if necessary"
   ]
  },
  {
   "cell_type": "code",
   "execution_count": 3,
   "metadata": {},
   "outputs": [],
   "source": [
    "with suppress(FileExistsError):\n",
    "    os.mkdir('data')\n",
    "\n",
    "source_dir = os.path.join('data', 'UCMerced_LandUse', 'Images')\n",
    "\n",
    "# Download the zipped dataset from http://vision.ucmerced.edu/datasets/landuse.html \n",
    "if not os.path.isdir(source_dir):\n",
    "    with ZipFile('UCMerced_LandUse.zip') as z:\n",
    "        z.extractall(path='data')"
   ]
  },
  {
   "cell_type": "code",
   "execution_count": 4,
   "metadata": {},
   "outputs": [],
   "source": [
    "# Set random seed for reproducibility\n",
    "np.random.seed(8)"
   ]
  },
  {
   "cell_type": "markdown",
   "metadata": {},
   "source": [
    "### Randomly assign each image to train, validate, or test folder, segregated by class name"
   ]
  },
  {
   "cell_type": "code",
   "execution_count": 5,
   "metadata": {},
   "outputs": [],
   "source": [
    "\"\"\"\n",
    "Create image directory hierarchy that looks like this:\n",
    "./data/flow/\n",
    "            train/\n",
    "                  agriculture/\n",
    "                  airplane/\n",
    "                  ...\n",
    "            validate/\n",
    "                     agriculture/\n",
    "                     airplane/\n",
    "                     ...\n",
    "            test/\n",
    "                 agriculture/\n",
    "                 airplane/\n",
    "                 ...\n",
    "\"\"\"\n",
    "\n",
    "# Collect class names from directory names in './data/UCMerced_LandUse/Images/'\n",
    "class_names = os.listdir(source_dir)    \n",
    "\n",
    "# Create path to image \"flow\" base directory\n",
    "flow_base = os.path.join('data', 'flow')\n",
    "\n",
    "# Create pathnames to train/validate/test subdirectories\n",
    "target_dirs = {target: os.path.join(flow_base, target) for target in ['train', 'validate', 'test']}\n",
    "\n",
    "if not os.path.isdir(flow_base):\n",
    "\n",
    "    # Make new directories\n",
    "    os.mkdir(flow_base)\n",
    "    \n",
    "    for target in ['train', 'validate', 'test']:\n",
    "        target_dir = os.path.join(flow_base, target)\n",
    "        os.mkdir(target_dir)\n",
    "        for class_name in class_names:\n",
    "            class_subdir = os.path.join(target_dir, class_name)\n",
    "            os.mkdir(class_subdir)\n",
    "\n",
    "    # suppress low-contrast warning from skimage.io.imsave\n",
    "    warnings.simplefilter('ignore', UserWarning)\n",
    "    \n",
    "    # Copy images from ./data/UCMerced_LandUse/Images to ./data/flow/<train, validate, test>    \n",
    "    for root, _, filenames in os.walk(source_dir):\n",
    "        if filenames:\n",
    "            class_name = os.path.basename(root)\n",
    "\n",
    "            # Randomly shuffle filenames\n",
    "            filenames = np.random.permutation(filenames)\n",
    "            for target, count in [('train', 80), ('validate', 10), ('test', 10)]:\n",
    "                target_dir = os.path.join(flow_base, target, class_name)\n",
    "                for filename in filenames[:count]:\n",
    "                    filepath = os.path.join(root, filename)\n",
    "                    image = imread(filepath)\n",
    "                    basename, _ = os.path.splitext(filename)\n",
    "                    # Convert TIF to PNG to work with Keras ImageDataGenerator.flow_from_directory\n",
    "                    target_filename = os.path.join(target_dir, basename + '.png')\n",
    "                    imsave(target_filename, image)\n",
    "            \n",
    "                filenames = filenames[count:]\n",
    "    \n",
    "    # Show future warnings during development\n",
    "    warnings.resetwarnings()"
   ]
  },
  {
   "cell_type": "markdown",
   "metadata": {},
   "source": [
    "### Calculate the training image means by channel"
   ]
  },
  {
   "cell_type": "code",
   "execution_count": 6,
   "metadata": {},
   "outputs": [],
   "source": [
    "means = []\n",
    "for root, _, filenames in os.walk(target_dirs['train']):\n",
    "    for filename in filenames:\n",
    "        filepath = os.path.join(root, filename)\n",
    "        image = imread(filepath)\n",
    "        means.append(np.mean(image, axis=(0, 1)))\n",
    "channel_means = np.mean(means, axis=0)"
   ]
  },
  {
   "cell_type": "markdown",
   "metadata": {},
   "source": [
    "# Get training set bottleneck features from pretrained CNN"
   ]
  },
  {
   "cell_type": "code",
   "execution_count": 7,
   "metadata": {},
   "outputs": [],
   "source": [
    "def get_bottleneck_features(model, dataset, preproc_func, batch_size=64):\n",
    "    \"\"\"\n",
    "    Get botteleneck features X and labels Y for the input dataset (train/validate/test)\n",
    "    by predicting on the convolutional portion only of a pretrained model.\n",
    "    \n",
    "    Note: Saves features and labels to numpy files for future use when rerunning the code.\n",
    "        \n",
    "    Inputs:\n",
    "        model: Pre-trained deep learning model, excluding fully-connected top model\n",
    "               e.g. applications.VGG16(include_top=False, weights='imagenet')\n",
    "        dataset = string label for dataset image directory ['train', 'validate', 'test']\n",
    "        preproc_func: preprocessing function implied to each input sample\n",
    "        batch_size: number of image samples per batch\n",
    "    \n",
    "    Return:\n",
    "        Return bottleneck features as numpy.array\n",
    "    \"\"\"\n",
    "\n",
    "    print(f'Generating \"{dataset}\" bottleneck predictions')\n",
    "    X_filepath = os.path.join('data', 'bn_' + dataset + '_X.npy')\n",
    "    y_filepath = os.path.join('data', 'bn_' + dataset + '_y.npy')\n",
    "\n",
    "    # Check if data are available from disk.\n",
    "    try:\n",
    "        with open(X_filepath, 'rb') as f:\n",
    "            X = np.load(f)\n",
    "        with open(y_filepath, 'rb') as f:\n",
    "            y = np.load(f)\n",
    "            Y = to_categorical(y, num_classes=len(np.unique(y)))\n",
    "    # Else, get the bottleneck features and labels\n",
    "    except:\n",
    "        image_data_gen = ImageDataGenerator(rescale=1/255.0, preprocessing_function=preproc_func)\n",
    "        image_generator = image_data_gen.flow_from_directory(target_dirs[dataset],\n",
    "                                                             batch_size=batch_size,\n",
    "                                                             shuffle=False\n",
    "                                                             )\n",
    "        image_count = 0\n",
    "        X_batches, Y_batches = [], []\n",
    "        for X, Y in image_generator:\n",
    "            X_batches.append(model.predict_on_batch(X))\n",
    "            Y_batches.append(Y)\n",
    "            image_count += X.shape[0]\n",
    "            # Must interrupt image_generator\n",
    "            if image_count >= image_generator.n:\n",
    "                break\n",
    "\n",
    "        X = np.concatenate(X_batches)\n",
    "        with open(X_filepath, 'wb') as f:\n",
    "            np.save(f, X) \n",
    "        Y = np.concatenate(Y_batches)\n",
    "        y = np.nonzero(Y)[1]\n",
    "        with open(y_filepath, 'wb') as f:\n",
    "            np.save(f, y)\n",
    "    \n",
    "    print(f'   Features of shape {X.shape} extracted for model \"{model.name}\"')\n",
    "    return X, Y"
   ]
  },
  {
   "cell_type": "markdown",
   "metadata": {},
   "source": [
    "### Select a pre-trained model from the Keras.applications module; e.g. Xception, VGG16 ..."
   ]
  },
  {
   "cell_type": "code",
   "execution_count": 8,
   "metadata": {},
   "outputs": [],
   "source": [
    "# Let's try the VGG16 model\n",
    "pretrained_model = applications.VGG16(include_top=False, weights='imagenet')"
   ]
  },
  {
   "cell_type": "markdown",
   "metadata": {},
   "source": [
    "### Extract bottleneck features for each dataset: train, validate, and test"
   ]
  },
  {
   "cell_type": "code",
   "execution_count": 9,
   "metadata": {},
   "outputs": [
    {
     "name": "stdout",
     "output_type": "stream",
     "text": [
      "Generating \"train\" bottleneck predictions\n",
      "   Features of shape (1680, 8, 8, 512) extracted for model \"vgg16\"\n",
      "Generating \"validate\" bottleneck predictions\n",
      "   Features of shape (210, 8, 8, 512) extracted for model \"vgg16\"\n",
      "Generating \"test\" bottleneck predictions\n",
      "   Features of shape (210, 8, 8, 512) extracted for model \"vgg16\"\n"
     ]
    }
   ],
   "source": [
    "num_classes = len(class_names)\n",
    "X, Y = dict(), dict()\n",
    "preprocess = lambda x: x - channel_means\n",
    "for dataset in ['train', 'validate', 'test']:\n",
    "    # Extract bottleneck features from pretrained model, predicting from \"dataset\" directory\n",
    "    X[dataset], Y[dataset] = get_bottleneck_features(pretrained_model, dataset, preprocess)"
   ]
  },
  {
   "cell_type": "markdown",
   "metadata": {},
   "source": [
    "# Train a fully-connected model using bottleneck features"
   ]
  },
  {
   "cell_type": "code",
   "execution_count": 10,
   "metadata": {},
   "outputs": [],
   "source": [
    "def build_fully_connected(input_shape, num_classes):\n",
    "    \"\"\"\n",
    "    Create a fully-connected model to train or test on UC Merced dataset.\n",
    "    \"\"\"\n",
    "    model = Sequential()\n",
    "    model.add(Flatten(input_shape=input_shape))\n",
    "    model.add(Dense(256))\n",
    "    model.add(Activation('relu'))\n",
    "    model.add(Dropout(0.5))\n",
    "    model.add(Dense(num_classes, activation='softmax'))\n",
    "    return model"
   ]
  },
  {
   "cell_type": "code",
   "execution_count": 11,
   "metadata": {},
   "outputs": [
    {
     "name": "stdout",
     "output_type": "stream",
     "text": [
      "Train on 1680 samples, validate on 210 samples\n",
      "Epoch 1/50\n",
      "4s - loss: 2.2362 - acc: 0.3292 - val_loss: 1.1997 - val_acc: 0.7524\n",
      "Epoch 2/50\n",
      "4s - loss: 1.0951 - acc: 0.6679 - val_loss: 0.7459 - val_acc: 0.8381\n",
      "Epoch 3/50\n",
      "3s - loss: 0.7101 - acc: 0.8054 - val_loss: 0.6115 - val_acc: 0.8524\n",
      "Epoch 4/50\n",
      "3s - loss: 0.5177 - acc: 0.8607 - val_loss: 0.5200 - val_acc: 0.8810\n",
      "Epoch 5/50\n",
      "3s - loss: 0.3749 - acc: 0.9167 - val_loss: 0.4777 - val_acc: 0.8810\n",
      "Epoch 6/50\n",
      "3s - loss: 0.3276 - acc: 0.9250 - val_loss: 0.4667 - val_acc: 0.8571\n",
      "Epoch 7/50\n",
      "3s - loss: 0.2695 - acc: 0.9429 - val_loss: 0.4141 - val_acc: 0.8952\n",
      "Epoch 8/50\n",
      "3s - loss: 0.2250 - acc: 0.9607 - val_loss: 0.4093 - val_acc: 0.8762\n",
      "Epoch 9/50\n",
      "3s - loss: 0.1726 - acc: 0.9708 - val_loss: 0.3804 - val_acc: 0.8857\n",
      "Epoch 10/50\n",
      "3s - loss: 0.1660 - acc: 0.9738 - val_loss: 0.3592 - val_acc: 0.9095\n",
      "Epoch 11/50\n",
      "3s - loss: 0.1275 - acc: 0.9839 - val_loss: 0.3487 - val_acc: 0.9238\n",
      "Epoch 12/50\n",
      "3s - loss: 0.1121 - acc: 0.9839 - val_loss: 0.3421 - val_acc: 0.9000\n",
      "Epoch 13/50\n",
      "3s - loss: 0.1005 - acc: 0.9875 - val_loss: 0.3366 - val_acc: 0.9000\n",
      "Epoch 14/50\n",
      "3s - loss: 0.0828 - acc: 0.9917 - val_loss: 0.3314 - val_acc: 0.8905\n",
      "Epoch 15/50\n",
      "4s - loss: 0.0800 - acc: 0.9911 - val_loss: 0.3123 - val_acc: 0.9143\n",
      "Epoch 16/50\n",
      "4s - loss: 0.0627 - acc: 0.9929 - val_loss: 0.3164 - val_acc: 0.9095\n",
      "Epoch 17/50\n",
      "3s - loss: 0.0663 - acc: 0.9917 - val_loss: 0.3110 - val_acc: 0.9143\n",
      "Epoch 18/50\n",
      "4s - loss: 0.0570 - acc: 0.9958 - val_loss: 0.3210 - val_acc: 0.9048\n",
      "Epoch 19/50\n",
      "4s - loss: 0.0587 - acc: 0.9940 - val_loss: 0.3191 - val_acc: 0.8952\n",
      "Epoch 20/50\n",
      "4s - loss: 0.0464 - acc: 0.9964 - val_loss: 0.3106 - val_acc: 0.9048\n",
      "Epoch 21/50\n",
      "4s - loss: 0.0426 - acc: 0.9964 - val_loss: 0.3020 - val_acc: 0.8952\n",
      "Epoch 22/50\n",
      "4s - loss: 0.0471 - acc: 0.9952 - val_loss: 0.3021 - val_acc: 0.9048\n",
      "Epoch 23/50\n",
      "4s - loss: 0.0419 - acc: 0.9946 - val_loss: 0.3237 - val_acc: 0.9000\n",
      "Epoch 24/50\n",
      "4s - loss: 0.0350 - acc: 0.9982 - val_loss: 0.3093 - val_acc: 0.9143\n",
      "Epoch 25/50\n",
      "4s - loss: 0.0321 - acc: 0.9982 - val_loss: 0.3084 - val_acc: 0.8952\n",
      "Epoch 26/50\n",
      "4s - loss: 0.0343 - acc: 0.9988 - val_loss: 0.2970 - val_acc: 0.9286\n",
      "Epoch 27/50\n",
      "4s - loss: 0.0283 - acc: 0.9982 - val_loss: 0.3047 - val_acc: 0.9000\n",
      "Epoch 28/50\n",
      "4s - loss: 0.0270 - acc: 0.9982 - val_loss: 0.2907 - val_acc: 0.9143\n",
      "Epoch 29/50\n",
      "4s - loss: 0.0265 - acc: 0.9982 - val_loss: 0.2926 - val_acc: 0.9190\n",
      "Epoch 30/50\n",
      "4s - loss: 0.0227 - acc: 0.9994 - val_loss: 0.2907 - val_acc: 0.9048\n",
      "Epoch 31/50\n",
      "4s - loss: 0.0235 - acc: 0.9976 - val_loss: 0.2972 - val_acc: 0.9095\n",
      "Epoch 32/50\n",
      "4s - loss: 0.0231 - acc: 0.9988 - val_loss: 0.2815 - val_acc: 0.9143\n",
      "Epoch 33/50\n",
      "4s - loss: 0.0217 - acc: 0.9994 - val_loss: 0.2810 - val_acc: 0.9190\n",
      "Epoch 34/50\n",
      "4s - loss: 0.0228 - acc: 0.9988 - val_loss: 0.2852 - val_acc: 0.9143\n",
      "Epoch 35/50\n",
      "4s - loss: 0.0189 - acc: 0.9988 - val_loss: 0.2937 - val_acc: 0.9000\n",
      "Epoch 36/50\n",
      "4s - loss: 0.0213 - acc: 0.9976 - val_loss: 0.2928 - val_acc: 0.9095\n",
      "Epoch 37/50\n",
      "4s - loss: 0.0189 - acc: 0.9988 - val_loss: 0.2908 - val_acc: 0.9238\n",
      "Epoch 38/50\n",
      "4s - loss: 0.0212 - acc: 0.9994 - val_loss: 0.2895 - val_acc: 0.9095\n",
      "Epoch 39/50\n",
      "4s - loss: 0.0164 - acc: 0.9994 - val_loss: 0.2816 - val_acc: 0.9190\n",
      "Epoch 40/50\n",
      "4s - loss: 0.0170 - acc: 0.9988 - val_loss: 0.2942 - val_acc: 0.9095\n",
      "Epoch 41/50\n",
      "4s - loss: 0.0155 - acc: 1.0000 - val_loss: 0.2965 - val_acc: 0.9095\n",
      "Epoch 42/50\n",
      "4s - loss: 0.0131 - acc: 0.9994 - val_loss: 0.2861 - val_acc: 0.9095\n",
      "Epoch 43/50\n",
      "4s - loss: 0.0126 - acc: 0.9988 - val_loss: 0.3003 - val_acc: 0.9000\n",
      "Epoch 44/50\n",
      "4s - loss: 0.0122 - acc: 0.9994 - val_loss: 0.2834 - val_acc: 0.9095\n",
      "Epoch 45/50\n",
      "4s - loss: 0.0127 - acc: 0.9994 - val_loss: 0.3024 - val_acc: 0.9000\n",
      "Epoch 46/50\n",
      "4s - loss: 0.0116 - acc: 1.0000 - val_loss: 0.2997 - val_acc: 0.9048\n",
      "Epoch 47/50\n",
      "4s - loss: 0.0100 - acc: 1.0000 - val_loss: 0.2982 - val_acc: 0.9048\n",
      "Epoch 48/50\n",
      "4s - loss: 0.0110 - acc: 0.9994 - val_loss: 0.2871 - val_acc: 0.9238\n",
      "Epoch 49/50\n",
      "4s - loss: 0.0102 - acc: 1.0000 - val_loss: 0.3042 - val_acc: 0.9238\n",
      "Epoch 50/50\n",
      "4s - loss: 0.0101 - acc: 0.9994 - val_loss: 0.2877 - val_acc: 0.9286\n"
     ]
    }
   ],
   "source": [
    "# Build, compile, and fit the model\n",
    "model = build_fully_connected(input_shape=X['train'].shape[1:], num_classes=num_classes)\n",
    "adam = optimizers.Adam(lr=0.0001)\n",
    "model.compile(optimizer=adam, loss='categorical_crossentropy', metrics=['accuracy'])\n",
    "model_fit_history = model.fit(X['train'], Y['train'], batch_size=64, epochs=50,\n",
    "                              verbose=2, validation_data=(X['validate'], Y['validate']))"
   ]
  },
  {
   "cell_type": "markdown",
   "metadata": {},
   "source": [
    "### Plot training loss vs. validation loss"
   ]
  },
  {
   "cell_type": "code",
   "execution_count": 12,
   "metadata": {},
   "outputs": [
    {
     "data": {
      "image/png": "[encoded data removed]",
      "text/plain": [
       "<matplotlib.figure.Figure at 0x263d0cf0278>"
      ]
     },
     "metadata": {},
     "output_type": "display_data"
    }
   ],
   "source": [
    "matplotlib.style.use('seaborn')\n",
    "epochs = len(model_fit_history.history['loss'])\n",
    "max_loss = max(max(model_fit_history.history['loss']), max(model_fit_history.history['val_loss']))\n",
    "plt.axis([0, epochs+1, 0, round(max_loss * 2.0) / 2 + 0.5])\n",
    "x = np.arange(1, epochs+1)\n",
    "plt.plot(x, model_fit_history.history['loss'])\n",
    "plt.plot(x, model_fit_history.history['val_loss'])\n",
    "plt.title('Training loss vs. Validation loss')\n",
    "plt.ylabel('Loss')\n",
    "plt.xlabel('Epoch')\n",
    "plt.legend(['Training', 'Validation'], loc='right')\n",
    "plt.show()"
   ]
  },
  {
   "cell_type": "markdown",
   "metadata": {},
   "source": [
    "### Plot of training accuracy vs. validation accuracy"
   ]
  },
  {
   "cell_type": "code",
   "execution_count": 13,
   "metadata": {},
   "outputs": [
    {
     "data": {
      "image/png": "[encoded data removed]",
      "text/plain": [
       "<matplotlib.figure.Figure at 0x263d0cd8eb8>"
      ]
     },
     "metadata": {},
     "output_type": "display_data"
    }
   ],
   "source": [
    "matplotlib.style.use('seaborn')\n",
    "epochs = len(model_fit_history.history['acc'])\n",
    "plt.axis([0, epochs+1, 0, 1.2])\n",
    "x = np.arange(1, epochs+1)\n",
    "plt.plot(x, model_fit_history.history['acc'])\n",
    "plt.plot(x, model_fit_history.history['val_acc'])\n",
    "plt.title('Training accuracy vs. Validation accuracy')\n",
    "plt.ylabel('Accuracy')\n",
    "plt.xlabel('Epoch')\n",
    "plt.legend(['Training', 'Validation'], loc='right')\n",
    "plt.show()"
   ]
  },
  {
   "cell_type": "markdown",
   "metadata": {},
   "source": [
    "<hr>"
   ]
  },
  {
   "cell_type": "markdown",
   "metadata": {},
   "source": [
    "### Retrain model on training + validation sets, through epoch with smallest validation loss."
   ]
  },
  {
   "cell_type": "code",
   "execution_count": 14,
   "metadata": {},
   "outputs": [
    {
     "name": "stdout",
     "output_type": "stream",
     "text": [
      "Stop training at 33 epochs\n"
     ]
    }
   ],
   "source": [
    "epochs = np.argmin(model_fit_history.history['val_loss']) + 1\n",
    "print(f'Stop training at {epochs} epochs')\n",
    "\n",
    "# Merge training and validation data\n",
    "X_train = np.concatenate([X['train'], X['validate']])\n",
    "Y_train = np.concatenate([Y['train'], Y['validate']])\n",
    "\n",
    "# Randomly shuffle X and Y\n",
    "shuffle_index = np.random.permutation(len(X_train))\n",
    "X_train = X_train[shuffle_index]\n",
    "Y_train = Y_train[shuffle_index]\n",
    "model = build_fully_connected(input_shape=X_train.shape[1:], num_classes=num_classes)\n",
    "model.compile(optimizer=adam, loss='categorical_crossentropy', metrics=['accuracy'])\n",
    "model_fit_history = model.fit(X_train, Y_train, batch_size=64, epochs=epochs, verbose=0)"
   ]
  },
  {
   "cell_type": "markdown",
   "metadata": {},
   "source": [
    "### Evaluate trained model on the test images"
   ]
  },
  {
   "cell_type": "code",
   "execution_count": 15,
   "metadata": {},
   "outputs": [],
   "source": [
    "# Predict on the test images\n",
    "y_pred = model.predict_classes(X['test'], verbose=0)"
   ]
  },
  {
   "cell_type": "markdown",
   "metadata": {},
   "source": [
    "### Print classification results"
   ]
  },
  {
   "cell_type": "code",
   "execution_count": 16,
   "metadata": {},
   "outputs": [
    {
     "name": "stdout",
     "output_type": "stream",
     "text": [
      "Model predication accuracy: 0.933\n",
      "\n",
      "Classification report:\n",
      "              precision    recall  f1-score   support\n",
      "\n",
      "          0       1.00      1.00      1.00        10\n",
      "          1       1.00      1.00      1.00        10\n",
      "          2       1.00      1.00      1.00        10\n",
      "          3       1.00      0.90      0.95        10\n",
      "          4       0.89      0.80      0.84        10\n",
      "          5       1.00      1.00      1.00        10\n",
      "          6       0.78      0.70      0.74        10\n",
      "          7       0.91      1.00      0.95        10\n",
      "          8       1.00      1.00      1.00        10\n",
      "          9       0.83      1.00      0.91        10\n",
      "         10       1.00      1.00      1.00        10\n",
      "         11       0.91      1.00      0.95        10\n",
      "         12       0.70      0.70      0.70        10\n",
      "         13       0.83      1.00      0.91        10\n",
      "         14       0.83      1.00      0.91        10\n",
      "         15       1.00      1.00      1.00        10\n",
      "         16       1.00      0.90      0.95        10\n",
      "         17       1.00      1.00      1.00        10\n",
      "         18       1.00      0.90      0.95        10\n",
      "         19       1.00      1.00      1.00        10\n",
      "         20       1.00      0.70      0.82        10\n",
      "\n",
      "avg / total       0.94      0.93      0.93       210\n",
      "\n"
     ]
    }
   ],
   "source": [
    "# Flatten Y into a vector\n",
    "y_test = np.nonzero(Y['test'])[1]\n",
    "accuracy = accuracy_score(y_test, y_pred)\n",
    "print(f'Model predication accuracy: {accuracy:.3f}')\n",
    "print(f'\\nClassification report:\\n {classification_report(y_test, y_pred)}')"
   ]
  },
  {
   "cell_type": "markdown",
   "metadata": {},
   "source": [
    "###  Test accuracy: 93.3%. Impressive for such a small image dataset!"
   ]
  }
 ],
 "metadata": {
  "kernelspec": {
   "display_name": "Python 3",
   "language": "python",
   "name": "python3"
  },
  "language_info": {
   "codemirror_mode": {
    "name": "ipython",
    "version": 3
   },
   "file_extension": ".py",
   "mimetype": "text/x-python",
   "name": "python",
   "nbconvert_exporter": "python",
   "pygments_lexer": "ipython3",
   "version": "3.6.2"
  }
 },
 "nbformat": 4,
 "nbformat_minor": 2
}
